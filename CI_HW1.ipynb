{
  "nbformat": 4,
  "nbformat_minor": 0,
  "metadata": {
    "colab": {
      "name": "CI-HW1",
      "provenance": [],
      "collapsed_sections": []
    },
    "kernelspec": {
      "display_name": "Python 3",
      "name": "python3"
    }
  },
  "cells": [
    {
      "cell_type": "markdown",
      "metadata": {
        "id": "8gb-Vc0wc08p"
      },
      "source": [
        "Sara Saremi - 97243045"
      ]
    },
    {
      "cell_type": "code",
      "metadata": {
        "id": "iE3g7mGClVS-",
        "colab": {
          "base_uri": "https://localhost:8080/",
          "height": 33
        },
        "outputId": "35734810-8266-42fd-9f20-ffe64091aa95"
      },
      "source": [
        "from google.colab import drive\n",
        "drive.mount('/content/drive')"
      ],
      "execution_count": null,
      "outputs": [
        {
          "output_type": "stream",
          "text": [
            "Mounted at /content/drive\n"
          ],
          "name": "stdout"
        }
      ]
    },
    {
      "cell_type": "code",
      "metadata": {
        "id": "Gc848xjhnllU"
      },
      "source": [
        "import pandas as pd \n",
        "col_list = [\"Date_reported\", \"New_cases\",\t \"Cumulative_cases\",\n",
        "            \"New_deaths\",\t \"Cumulative_deaths\"]\n",
        "df=pd.read_csv('/content/drive/My Drive/WHO-COVID-19-Iran-data.csv', sep=\",\", usecols=col_list)\n",
        "cases = df[\"Cumulative_cases\"]\n",
        "dates = df[\"Date_reported\"]"
      ],
      "execution_count": null,
      "outputs": []
    },
    {
      "cell_type": "markdown",
      "metadata": {
        "id": "lfQOiQRHc-5s"
      },
      "source": [
        "داده‌ها از سایت سازمان بهداشت جهانی استخراج شده‌اند و از بخش تعداد مبتلایان (تجمعی) برای تحلیل استفاده شده‌است.\n",
        "\n",
        "---\n",
        "\n"
      ]
    },
    {
      "cell_type": "code",
      "metadata": {
        "id": "w7DEuTC6R6dF",
        "colab": {
          "base_uri": "https://localhost:8080/",
          "height": 285
        },
        "outputId": "96b8a167-b64f-445c-fb88-f12a5219ef1f"
      },
      "source": [
        "import matplotlib.pyplot as plt\n",
        "import numpy as np\n",
        " \n",
        "x = range(len(cases))\n",
        "t = cases\n",
        "plt.plot(x , t , marker='.', markerSize=\"2\")"
      ],
      "execution_count": null,
      "outputs": [
        {
          "output_type": "execute_result",
          "data": {
            "text/plain": [
              "[<matplotlib.lines.Line2D at 0x7f1fd9ad8780>]"
            ]
          },
          "metadata": {
            "tags": []
          },
          "execution_count": 7
        },
        {
          "output_type": "display_data",
          "data": {
            "image/png": "[encoded data removed]",
            "text/plain": [
              "<Figure size 432x288 with 1 Axes>"
            ]
          },
          "metadata": {
            "tags": [],
            "needs_background": "light"
          }
        }
      ]
    },
    {
      "cell_type": "markdown",
      "metadata": {
        "id": "TdctLMi15S4t"
      },
      "source": [
        "تقسیم داده‌ها به سه بخش:\n",
        "\n",
        "70% train, 15% validation, 15% test"
      ]
    },
    {
      "cell_type": "code",
      "metadata": {
        "id": "gyHlBCWodcGM",
        "colab": {
          "base_uri": "https://localhost:8080/",
          "height": 1000
        },
        "outputId": "6ad0bf69-a462-472b-b5a4-1d2e6ba061e8"
      },
      "source": [
        "def train_validate_test_split(df, train_percent=.7, validate_percent=.15, seed=None):\n",
        "    np.random.seed(seed)\n",
        "    perm = np.random.permutation(df.index)\n",
        "    m = len(df.index)\n",
        "    train_end = int(train_percent * m)\n",
        "    validate_end = int(validate_percent * m) + train_end\n",
        "    train = df.iloc[perm[:train_end]]\n",
        "    validate = df.iloc[perm[train_end:validate_end]]\n",
        "    test = df.iloc[perm[validate_end:]]\n",
        "    return train, validate, test\n",
        "\n",
        "trainSet, validationSet, testSet = train_validate_test_split(cases)\n",
        "trainSet = trainSet.sort_index()\n",
        "validationSet = validationSet.sort_index()\n",
        "testSet = testSet.sort_index()\n",
        "\n",
        "print(trainSet)\n",
        "print(validationSet)\n",
        "print(testSet)"
      ],
      "execution_count": null,
      "outputs": [
        {
          "output_type": "stream",
          "text": [
            "1           0\n",
            "2           0\n",
            "3           0\n",
            "4           0\n",
            "5           0\n",
            "        ...  \n",
            "273    461044\n",
            "274    464596\n",
            "275    468119\n",
            "277    475674\n",
            "278    479825\n",
            "Name: Cumulative_cases, Length: 195, dtype: int64\n",
            "0           0\n",
            "27          0\n",
            "29          0\n",
            "39          0\n",
            "40          0\n",
            "42          0\n",
            "47          6\n",
            "56        392\n",
            "58        597\n",
            "63       4751\n",
            "66       7165\n",
            "77      19644\n",
            "80      23049\n",
            "97      66220\n",
            "100     71686\n",
            "108     83505\n",
            "112     88194\n",
            "114     90481\n",
            "125    103135\n",
            "126    104691\n",
            "129    109286\n",
            "131    112725\n",
            "136    122492\n",
            "139    129341\n",
            "153    160696\n",
            "161    180176\n",
            "183    235429\n",
            "195    264561\n",
            "198    271606\n",
            "207    293606\n",
            "209    298909\n",
            "210    301530\n",
            "212    306752\n",
            "219    324692\n",
            "220    326712\n",
            "224    336324\n",
            "225    338825\n",
            "227    343203\n",
            "228    345450\n",
            "231    352558\n",
            "244    378752\n",
            "Name: Cumulative_cases, dtype: int64\n",
            "7           0\n",
            "18          0\n",
            "24          0\n",
            "26          0\n",
            "28          0\n",
            "38          0\n",
            "46          0\n",
            "49         22\n",
            "57        597\n",
            "59       1505\n",
            "60       2340\n",
            "68       9004\n",
            "70      11368\n",
            "81      24811\n",
            "90      50468\n",
            "107     82211\n",
            "109     84802\n",
            "115     91472\n",
            "123     99970\n",
            "130    110767\n",
            "132    114533\n",
            "141    131652\n",
            "150    151466\n",
            "160    177938\n",
            "164    187427\n",
            "174    212501\n",
            "178    222669\n",
            "182    232863\n",
            "184    237878\n",
            "188    248379\n",
            "193    259652\n",
            "206    291172\n",
            "223    333699\n",
            "230    350279\n",
            "254    399940\n",
            "256    404648\n",
            "258    410334\n",
            "261    419043\n",
            "268    443086\n",
            "270    449960\n",
            "271    453637\n",
            "272    457219\n",
            "276    471772\n",
            "Name: Cumulative_cases, dtype: int64\n"
          ],
          "name": "stdout"
        }
      ]
    },
    {
      "cell_type": "code",
      "metadata": {
        "id": "pumeFqZMwn_7"
      },
      "source": [
        "import math \n",
        "      \n",
        "class PolynomailRegression() : \n",
        "      \n",
        "    def __init__( self, degree, learning_rate, iterations ) : \n",
        "        self.degree = degree \n",
        "        self.learning_rate = learning_rate \n",
        "        self.iterations = iterations \n",
        "          \n",
        "    def transform( self, X ) : \n",
        "        X_transform = np.ones( ( self.m, 1 ) ) \n",
        "        j = 0\n",
        "        for j in range( self.degree + 1 ) :  \n",
        "            if j != 0 :   \n",
        "                x_pow = np.power( X, j )                   \n",
        "                X_transform = np.append( X_transform, x_pow.reshape( -1, 1 ), axis = 1 ) \n",
        "  \n",
        "        return X_transform    \n",
        "            \n",
        "    def normalize( self, X ) : \n",
        "        X[:, 1:] = ( X[:, 1:] - np.mean( X[:, 1:], axis = 0 ) ) / np.std( X[:, 1:], axis = 0 ) \n",
        "        return X \n",
        "          \n",
        "    def fit( self, X, Y ) : \n",
        "          \n",
        "        self.X = X \n",
        "        self.Y = Y \n",
        "        self.m, self.n = self.X.shape \n",
        "      \n",
        "        self.W = np.zeros( self.degree + 1 )           \n",
        "        X_transform = self.transform( self.X ) \n",
        "        X_normalize = self.normalize( X_transform ) \n",
        "        cost = 0\n",
        "        for i in range( self.iterations ) : \n",
        "            h = self.predict( self.X ) \n",
        "            error = h - self.Y \n",
        "            self.W = self.W - self.learning_rate * ( 1 / self.m ) * np.dot( X_normalize.T, error )  \n",
        "        return self\n",
        "            \n",
        "    def predict( self, X ) :           \n",
        "        X_transform = self.transform( X ) \n",
        "        X_normalize = self.normalize( X_transform ) \n",
        "        return np.dot( X_transform, self.W ) \n",
        "        "
      ],
      "execution_count": null,
      "outputs": []
    },
    {
      "cell_type": "code",
      "metadata": {
        "id": "ZBG1x2lNAZ2Y"
      },
      "source": [
        "def calc_error_cost(Y_pred):\n",
        "  N = (len(validationSet))\n",
        "  err = 0\n",
        "  # for i in range(N):\n",
        "  #   y = Y_pred[i]*validationSet[i]\n",
        "  #   err = err + (y-validationSet[i])**2\n",
        "  return err/(float(N)*2)"
      ],
      "execution_count": null,
      "outputs": []
    },
    {
      "cell_type": "code",
      "metadata": {
        "id": "JmORmzv3D36w"
      },
      "source": [
        "trainArray =[]\n",
        "for i in range(len(trainSet)):\n",
        "  trainArray.append([i])\n",
        "X = np.array( trainArray ) \n",
        "Y = np.array( trainSet ) "
      ],
      "execution_count": null,
      "outputs": []
    },
    {
      "cell_type": "code",
      "metadata": {
        "id": "E_jDYjnmGGAh",
        "colab": {
          "base_uri": "https://localhost:8080/",
          "height": 284
        },
        "outputId": "924a6bd9-4491-45ac-d1ce-d9b5f07a05ed"
      },
      "source": [
        "model = PolynomailRegression( degree = 1, learning_rate = 0.01, iterations = 500 ) \n",
        "model.fit( X, Y ) \n",
        "Y_pred = model.predict( X ) \n",
        "print(\"degree 1 | cost: \", calc_error_cost(Y_pred))\n",
        "plt.plot( X, Y, marker=\".\", markerSize=\"2\" ) \n",
        "plt.plot( X, Y_pred, color = 'orange' ) \n",
        "plt.show() "
      ],
      "execution_count": null,
      "outputs": [
        {
          "output_type": "stream",
          "text": [
            "degree 1 | cost:  0.0\n"
          ],
          "name": "stdout"
        },
        {
          "output_type": "display_data",
          "data": {
            "image/png": "[encoded data removed]",
            "text/plain": [
              "<Figure size 432x288 with 1 Axes>"
            ]
          },
          "metadata": {
            "tags": [],
            "needs_background": "light"
          }
        }
      ]
    },
    {
      "cell_type": "code",
      "metadata": {
        "id": "hepuBw0IGIBG",
        "colab": {
          "base_uri": "https://localhost:8080/",
          "height": 281
        },
        "outputId": "76da2f18-3f76-47b4-ff90-729167602a7b"
      },
      "source": [
        "model = PolynomailRegression( degree = 3, learning_rate = 0.01, iterations = 500 ) \n",
        "model.fit( X, Y ) \n",
        "Y_pred = model.predict( X ) \n",
        "print(\"degree 3 | cost: \", calc_error_cost(Y_pred))\n",
        "plt.plot( X, Y, marker=\".\", markerSize=\"2\" ) \n",
        "plt.plot( X, Y_pred, color = 'orange' ) \n",
        "plt.show() "
      ],
      "execution_count": null,
      "outputs": [
        {
          "output_type": "stream",
          "text": [
            "degree 1 | cost:  0.0\n"
          ],
          "name": "stdout"
        },
        {
          "output_type": "display_data",
          "data": {
            "image/png": "[encoded data removed]",
            "text/plain": [
              "<Figure size 432x288 with 1 Axes>"
            ]
          },
          "metadata": {
            "tags": [],
            "needs_background": "light"
          }
        }
      ]
    },
    {
      "cell_type": "code",
      "metadata": {
        "id": "rq3_AwCtGM0v",
        "colab": {
          "base_uri": "https://localhost:8080/",
          "height": 281
        },
        "outputId": "18954d54-c585-45e6-8b78-4b686786a1f4"
      },
      "source": [
        "model = PolynomailRegression( degree = 5, learning_rate = 0.01, iterations = 500 ) \n",
        "model.fit( X, Y ) \n",
        "Y_pred = model.predict( X ) \n",
        "print(\"degree 5 | cost: \", calc_error_cost(Y_pred))\n",
        "plt.plot( X, Y, marker=\".\", markerSize=\"2\" ) \n",
        "plt.plot( X, Y_pred, color = 'orange' ) \n",
        "plt.show() "
      ],
      "execution_count": null,
      "outputs": [
        {
          "output_type": "stream",
          "text": [
            "degree 1 | cost:  0.0\n"
          ],
          "name": "stdout"
        },
        {
          "output_type": "display_data",
          "data": {
            "image/png": "[encoded data removed]",
            "text/plain": [
              "<Figure size 432x288 with 1 Axes>"
            ]
          },
          "metadata": {
            "tags": [],
            "needs_background": "light"
          }
        }
      ]
    },
    {
      "cell_type": "code",
      "metadata": {
        "id": "6ZtPaHfaGSmO",
        "colab": {
          "base_uri": "https://localhost:8080/",
          "height": 284
        },
        "outputId": "1cf91f72-27c2-4f5d-8740-b15bcc494d37"
      },
      "source": [
        "model = PolynomailRegression( degree = 50, learning_rate = 0.01, iterations = 500 ) \n",
        "model.fit( X, Y ) \n",
        "Y_pred = model.predict( X ) \n",
        "print(\"degree 50 | cost: \", calc_error_cost(Y_pred))\n",
        "plt.plot( X, Y, marker=\".\", markerSize=\"2\" ) \n",
        "plt.plot( X, Y_pred, color = 'orange' ) \n",
        "plt.show() "
      ],
      "execution_count": null,
      "outputs": [
        {
          "output_type": "stream",
          "text": [
            "degree 1 | cost:  0.0\n"
          ],
          "name": "stdout"
        },
        {
          "output_type": "display_data",
          "data": {
            "image/png": "[encoded data removed]",
            "text/plain": [
              "<Figure size 432x288 with 1 Axes>"
            ]
          },
          "metadata": {
            "tags": [],
            "needs_background": "light"
          }
        }
      ]
    },
    {
      "cell_type": "code",
      "metadata": {
        "id": "XLbyhQozWPCK"
      },
      "source": [
        "def calc_cost(x, t, w, b):\n",
        "  N = len(x)\n",
        "  err = 0\n",
        "  for i in range(N):\n",
        "    y = w*x[i] + b\n",
        "    err = err + (y-t[i])**2\n",
        "  return err/float(N)"
      ],
      "execution_count": null,
      "outputs": []
    }
  ]
}